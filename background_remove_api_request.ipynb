{
  "nbformat": 4,
  "nbformat_minor": 0,
  "metadata": {
    "colab": {
      "provenance": [],
      "mount_file_id": "1fsh240LI5bYB73jIV3OdeFpx9bMrycwm",
      "authorship_tag": "ABX9TyMR8Rr6GmLDZQhs9FbvAwDZ",
      "include_colab_link": true
    },
    "kernelspec": {
      "name": "python3",
      "display_name": "Python 3"
    },
    "language_info": {
      "name": "python"
    }
  },
  "cells": [
    {
      "cell_type": "markdown",
      "metadata": {
        "id": "view-in-github",
        "colab_type": "text"
      },
      "source": [
        "<a href=\"https://colab.research.google.com/github/agbleze/image_background_remover/blob/main/background_remove_api_request.ipynb\" target=\"_parent\"><img src=\"https://colab.research.google.com/assets/colab-badge.svg\" alt=\"Open In Colab\"/></a>"
      ]
    },
    {
      "cell_type": "code",
      "execution_count": null,
      "metadata": {
        "id": "keCStr8s2hVj"
      },
      "outputs": [],
      "source": [
        "import requests\n",
        "import json\n",
        "\n",
        "# func to make request to background remover api\n",
        "\n",
        "def request_image_background_change(data: dict, URL: str = None,) -> int:\n",
        "    \"\"\"\n",
        "    This function makes an API request to the image background change API\n",
        "    and returnsan image with the changed to what user requested\n",
        "\n",
        "    Parameters\n",
        "    ----------\n",
        "    URL : Endpoint of image background color change API\n",
        "        The API link.\n",
        "    data : dict\n",
        "        input data to be used for prediction. This should be a dictionary\n",
        "        composed of image and color to change image background to.\n",
        "        keys as image and blue_green_red_color\n",
        "        image: image whose background is to be changed\n",
        "\n",
        "        blue_green_red_color: Background color to change image background to.\n",
        "          This is a list of pixel values (intergers) ideally in the range of 0 - 255\n",
        "    Returns\n",
        "    -------\n",
        "    NdArray\n",
        "        Image.\n",
        "\n",
        "    \"\"\"\n",
        "    req = requests.post(url=URL, json=data)\n",
        "    response = req.content\n",
        "    prediction = json.loads(response)['processed_image'][0]\n",
        "    return prediction\n",
        "\n",
        "\n",
        "\n",
        "\n"
      ]
    },
    {
      "cell_type": "code",
      "source": [
        "!pwd"
      ],
      "metadata": {
        "colab": {
          "base_uri": "https://localhost:8080/"
        },
        "id": "lkZYweqIgHb9",
        "outputId": "5109b11c-0207-4e97-a765-98cde1abcb5d"
      },
      "execution_count": 1,
      "outputs": [
        {
          "output_type": "stream",
          "name": "stdout",
          "text": [
            "/content\n"
          ]
        }
      ]
    },
    {
      "cell_type": "code",
      "source": [
        "!ls"
      ],
      "metadata": {
        "colab": {
          "base_uri": "https://localhost:8080/"
        },
        "id": "Yo8JA5QLgHYG",
        "outputId": "f24e0c2c-bf13-4b90-d9ee-fd9a1f0bf57a"
      },
      "execution_count": 2,
      "outputs": [
        {
          "output_type": "stream",
          "name": "stdout",
          "text": [
            "drive  sample_data\n"
          ]
        }
      ]
    },
    {
      "cell_type": "code",
      "source": [],
      "metadata": {
        "id": "MicM_Va7gHO7"
      },
      "execution_count": null,
      "outputs": []
    },
    {
      "cell_type": "code",
      "source": [],
      "metadata": {
        "id": "vYJFvmZngGeZ"
      },
      "execution_count": null,
      "outputs": []
    }
  ]
}